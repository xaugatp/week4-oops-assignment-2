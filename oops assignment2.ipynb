{
 "cells": [
  {
   "cell_type": "code",
   "execution_count": 1,
   "id": "a42275e8-f93c-4fce-a305-3f52aa4be346",
   "metadata": {},
   "outputs": [
    {
     "data": {
      "text/plain": [
       "'Q1. What is Abstraction in OOps? Explain with an example.'"
      ]
     },
     "execution_count": 1,
     "metadata": {},
     "output_type": "execute_result"
    }
   ],
   "source": [
    "'''Q1. What is Abstraction in OOps? Explain with an example.'''"
   ]
  },
  {
   "cell_type": "code",
   "execution_count": 3,
   "id": "11694892-9f99-443a-8197-d6d30922bdd6",
   "metadata": {},
   "outputs": [
    {
     "name": "stdout",
     "output_type": "stream",
     "text": [
      "Woof!\n",
      "Meow!\n"
     ]
    }
   ],
   "source": [
    "'''Abstraction in OOPs is the process of simplifying complex objects by focusing on essential features and hiding unnecessary detials. It provides a high-level view and clear interface\n",
    "for interacting with objects,promoting code resuability and maintainibility.'''\n",
    "from abc import ABC, abstractmethod\n",
    "\n",
    "class Animal(ABC):\n",
    "    @abstractmethod\n",
    "    def make_sound(self):\n",
    "        pass\n",
    "\n",
    "class Dog(Animal):\n",
    "    def make_sound(self):\n",
    "        print(\"Woof!\")\n",
    "\n",
    "class Cat(Animal):\n",
    "    def make_sound(self):\n",
    "        print(\"Meow!\")\n",
    "\n",
    "# Creating objects of the concrete classes\n",
    "dog = Dog()\n",
    "cat = Cat()\n",
    "\n",
    "# Calling the abstract method\n",
    "dog.make_sound()   # Output: Woof!\n",
    "cat.make_sound()   # Output: Meow!\n"
   ]
  },
  {
   "cell_type": "code",
   "execution_count": 4,
   "id": "ddec76a0-cdf9-49c3-b9c3-c8d1c5b679d2",
   "metadata": {},
   "outputs": [
    {
     "data": {
      "text/plain": [
       "'Q2. Differentiate between Abstraction and Encapsulation. Explain with an example.'"
      ]
     },
     "execution_count": 4,
     "metadata": {},
     "output_type": "execute_result"
    }
   ],
   "source": [
    "'''Q2. Differentiate between Abstraction and Encapsulation. Explain with an example.'''"
   ]
  },
  {
   "cell_type": "code",
   "execution_count": 6,
   "id": "7428b68c-c0af-456a-b1cc-98ca85d1a990",
   "metadata": {},
   "outputs": [
    {
     "data": {
      "text/plain": [
       "\"Abstraction and encapsulation are two fundamental concepts in object-oriented programming, but they serve different purposes:\\n\\n1. Abstraction focuses on simplifying complex objects by emphasizing what they do rather than how they do it. It provides a high-level view and clear interfaces for interacting with objects,\\npromoting code reusability and maintainability.\\n\\n2. Encapsulation, on the other hand, is about hiding the internal details and data of an object and providing controlled access to it through methods. It encapsulates the implementation details\\nwithin the object, protecting its state and ensuring data integrity.\\n\\nExample:\\nConsider a class called `BankAccount`:\\n\\n- Abstraction: The abstraction aspect would be defining methods like `deposit()`, `withdraw()`, and `get_balance()`, which provide a simplified view of the bank account's functionality without \\nexposing the internal details of how those operations are implemented.\\n\\n- Encapsulation: The encapsulation aspect would involve making the account balance attribute private (e.g., `_balance`) and providing public methods (`deposit()` and `withdraw()`) to interact \\nwith the balance. The methods would handle the internal state changes, ensuring that the balance is accessed and modified securely.\\n\\nIn short, abstraction focuses on what an object does, while encapsulation focuses on how an object does it, providing controlled access to its internal state.\\n\\nAbstraction simplifies object interaction, while encapsulation ensures data hiding and controlled access to object internals, promoting modularity and preventing direct manipulation of object attributes.\""
      ]
     },
     "execution_count": 6,
     "metadata": {},
     "output_type": "execute_result"
    }
   ],
   "source": [
    "'''Abstraction and encapsulation are two fundamental concepts in object-oriented programming, but they serve different purposes:\n",
    "\n",
    "1. Abstraction focuses on simplifying complex objects by emphasizing what they do rather than how they do it. It provides a high-level view and clear interfaces for interacting with objects,\n",
    "promoting code reusability and maintainability.\n",
    "\n",
    "2. Encapsulation, on the other hand, is about hiding the internal details and data of an object and providing controlled access to it through methods. It encapsulates the implementation details\n",
    "within the object, protecting its state and ensuring data integrity.\n",
    "\n",
    "Example:\n",
    "Consider a class called `BankAccount`:\n",
    "\n",
    "- Abstraction: The abstraction aspect would be defining methods like `deposit()`, `withdraw()`, and `get_balance()`, which provide a simplified view of the bank account's functionality without \n",
    "exposing the internal details of how those operations are implemented.\n",
    "\n",
    "- Encapsulation: The encapsulation aspect would involve making the account balance attribute private (e.g., `_balance`) and providing public methods (`deposit()` and `withdraw()`) to interact \n",
    "with the balance. The methods would handle the internal state changes, ensuring that the balance is accessed and modified securely.\n",
    "\n",
    "In short, abstraction focuses on what an object does, while encapsulation focuses on how an object does it, providing controlled access to its internal state.\n",
    "\n",
    "Abstraction simplifies object interaction, while encapsulation ensures data hiding and controlled access to object internals, promoting modularity and preventing direct manipulation of object attributes.'''"
   ]
  },
  {
   "cell_type": "code",
   "execution_count": 7,
   "id": "c105d332-4f87-44a5-9a95-76537ca30795",
   "metadata": {},
   "outputs": [
    {
     "name": "stdout",
     "output_type": "stream",
     "text": [
      "500\n"
     ]
    }
   ],
   "source": [
    "class BankAccount:\n",
    "    def __init__(self):\n",
    "        self._balance = 0  # Private attribute\n",
    "\n",
    "    def deposit(self, amount):\n",
    "        self._balance += amount\n",
    "\n",
    "    def withdraw(self, amount):\n",
    "        if self._balance >= amount:\n",
    "            self._balance -= amount\n",
    "        else:\n",
    "            print(\"Insufficient balance.\")\n",
    "\n",
    "    def get_balance(self):\n",
    "        return self._balance\n",
    "\n",
    "# Creating an instance of BankAccount\n",
    "account = BankAccount()\n",
    "\n",
    "# Accessing the account balance using public methods\n",
    "account.deposit(1000)\n",
    "account.withdraw(500)\n",
    "print(account.get_balance())  # Output: 500\n"
   ]
  },
  {
   "cell_type": "code",
   "execution_count": 8,
   "id": "130b6837-628e-47ca-ba47-4ec56131a640",
   "metadata": {},
   "outputs": [
    {
     "data": {
      "text/plain": [
       "'Q3. What is abc module in python? Why is it used?'"
      ]
     },
     "execution_count": 8,
     "metadata": {},
     "output_type": "execute_result"
    }
   ],
   "source": [
    "'''Q3. What is abc module in python? Why is it used?'''"
   ]
  },
  {
   "cell_type": "code",
   "execution_count": 9,
   "id": "58c645ca-2a44-4622-983a-e3545d74c087",
   "metadata": {},
   "outputs": [
    {
     "data": {
      "text/plain": [
       "'The `abc` module in Python stands for \"Abstract Base Classes.\" It is used to define abstract base classes, which cannot be instantiated directly but serve as interfaces for other classes. \\nIt enforces a common interface among multiple classes and ensures that derived classes implement required functionality. The `abc` module promotes abstraction, contract enforcement\\n, and polymorphism in Python.'"
      ]
     },
     "execution_count": 9,
     "metadata": {},
     "output_type": "execute_result"
    }
   ],
   "source": [
    "'''The `abc` module in Python stands for \"Abstract Base Classes.\" It is used to define abstract base classes, which cannot be instantiated directly but serve as interfaces for other classes. \n",
    "It enforces a common interface among multiple classes and ensures that derived classes implement required functionality. The `abc` module promotes abstraction, contract enforcement\n",
    ", and polymorphism in Python.'''"
   ]
  },
  {
   "cell_type": "code",
   "execution_count": 10,
   "id": "cf205146-0074-4cdc-ab61-c47cc596676f",
   "metadata": {},
   "outputs": [
    {
     "data": {
      "text/plain": [
       "'Q4. How can we achieve data abstraction?'"
      ]
     },
     "execution_count": 10,
     "metadata": {},
     "output_type": "execute_result"
    }
   ],
   "source": [
    "'''Q4. How can we achieve data abstraction?'''"
   ]
  },
  {
   "cell_type": "code",
   "execution_count": 11,
   "id": "1f4a0dfc-1cc9-4995-8f55-5d264290a8d1",
   "metadata": {},
   "outputs": [
    {
     "name": "stdout",
     "output_type": "stream",
     "text": [
      "500\n"
     ]
    }
   ],
   "source": [
    "class BankAccount:\n",
    "    def __init__(self):\n",
    "        self.__balance = 0\n",
    "\n",
    "    def deposit(self, amount):\n",
    "        self.__balance += amount\n",
    "\n",
    "    def withdraw(self, amount):\n",
    "        if self.__balance >= amount:\n",
    "            self.__balance -= amount\n",
    "        else:\n",
    "            print(\"Insufficient balance.\")\n",
    "\n",
    "    def get_balance(self):\n",
    "        return self.__balance\n",
    "\n",
    "# Creating an instance of BankAccount\n",
    "account = BankAccount()\n",
    "\n",
    "# Accessing and modifying balance through public methods\n",
    "account.deposit(1000)\n",
    "account.withdraw(500)\n",
    "print(account.get_balance())  # Output: 500\n"
   ]
  },
  {
   "cell_type": "code",
   "execution_count": 12,
   "id": "5dd0c93e-12af-43a5-84eb-5993dd6666ec",
   "metadata": {},
   "outputs": [
    {
     "data": {
      "text/plain": [
       "'To achieve data abstraction in Python:\\n\\n1. Define a class with attributes and methods representing the desired abstraction.\\n2. Encapsulate the attributes by making them private using a double underscore prefix (e.g., `__attribute`).\\n3. Provide public methods (getter and setter methods) to access and modify the private attributes.\\n4. Access the attributes through these public methods rather than directly accessing them.\\n5. This hides the internal implementation details and provides controlled access to the data, achieving data abstraction.'"
      ]
     },
     "execution_count": 12,
     "metadata": {},
     "output_type": "execute_result"
    }
   ],
   "source": [
    "'''To achieve data abstraction in Python:\n",
    "\n",
    "1. Define a class with attributes and methods representing the desired abstraction.\n",
    "2. Encapsulate the attributes by making them private using a double underscore prefix (e.g., `__attribute`).\n",
    "3. Provide public methods (getter and setter methods) to access and modify the private attributes.\n",
    "4. Access the attributes through these public methods rather than directly accessing them.\n",
    "5. This hides the internal implementation details and provides controlled access to the data, achieving data abstraction.'''"
   ]
  },
  {
   "cell_type": "code",
   "execution_count": 13,
   "id": "dbb9119e-fa68-419e-861e-290dd4151f8d",
   "metadata": {},
   "outputs": [
    {
     "data": {
      "text/plain": [
       "'Q5. Can we create an instance of an abstract class? Explain your answer.'"
      ]
     },
     "execution_count": 13,
     "metadata": {},
     "output_type": "execute_result"
    }
   ],
   "source": [
    "'''Q5. Can we create an instance of an abstract class? Explain your answer.'''"
   ]
  },
  {
   "cell_type": "code",
   "execution_count": 14,
   "id": "4cbbd3d9-02a2-463a-86ee-d94a1cc345e0",
   "metadata": {},
   "outputs": [
    {
     "data": {
      "text/plain": [
       "'No we can not create an instance of an abstract class in Python.Abstract class are meant to be inherited from and cannot be instantiated directly. Instance can only be created from concrete\\nsubclasses that inherit from the abstract class.'"
      ]
     },
     "execution_count": 14,
     "metadata": {},
     "output_type": "execute_result"
    }
   ],
   "source": [
    "'''No we can not create an instance of an abstract class in Python.Abstract class are meant to be inherited from and cannot be instantiated directly. Instance can only be created from concrete\n",
    "subclasses that inherit from the abstract class.'''\n"
   ]
  },
  {
   "cell_type": "code",
   "execution_count": null,
   "id": "040d0f16-eff5-43cf-8b1b-64ef87b2f2b8",
   "metadata": {},
   "outputs": [],
   "source": []
  }
 ],
 "metadata": {
  "kernelspec": {
   "display_name": "Python 3 (ipykernel)",
   "language": "python",
   "name": "python3"
  },
  "language_info": {
   "codemirror_mode": {
    "name": "ipython",
    "version": 3
   },
   "file_extension": ".py",
   "mimetype": "text/x-python",
   "name": "python",
   "nbconvert_exporter": "python",
   "pygments_lexer": "ipython3",
   "version": "3.10.8"
  }
 },
 "nbformat": 4,
 "nbformat_minor": 5
}
